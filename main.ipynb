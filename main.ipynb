{
 "cells": [
  {
   "cell_type": "code",
   "execution_count": 1,
   "metadata": {},
   "outputs": [],
   "source": [
    "import pandas as pd "
   ]
  },
  {
   "cell_type": "code",
   "execution_count": 9,
   "metadata": {},
   "outputs": [
    {
     "data": {
      "text/html": [
       "<div>\n",
       "<style scoped>\n",
       "    .dataframe tbody tr th:only-of-type {\n",
       "        vertical-align: middle;\n",
       "    }\n",
       "\n",
       "    .dataframe tbody tr th {\n",
       "        vertical-align: top;\n",
       "    }\n",
       "\n",
       "    .dataframe thead th {\n",
       "        text-align: right;\n",
       "    }\n",
       "</style>\n",
       "<table border=\"1\" class=\"dataframe\">\n",
       "  <thead>\n",
       "    <tr style=\"text-align: right;\">\n",
       "      <th></th>\n",
       "      <th>age</th>\n",
       "      <th>freq</th>\n",
       "      <th>purpose</th>\n",
       "      <th>price</th>\n",
       "      <th>choice of drink</th>\n",
       "      <th>time</th>\n",
       "    </tr>\n",
       "  </thead>\n",
       "  <tbody>\n",
       "    <tr>\n",
       "      <th>0</th>\n",
       "      <td>19</td>\n",
       "      <td>2-3 lần/ tuần</td>\n",
       "      <td>Trải nghiệm sản phẩm và dịch vụ (check-in, uốn...</td>\n",
       "      <td>30k - 45k</td>\n",
       "      <td>Các loại café, Các loại trà sữa</td>\n",
       "      <td>2 - 3 giờ</td>\n",
       "    </tr>\n",
       "    <tr>\n",
       "      <th>1</th>\n",
       "      <td>20</td>\n",
       "      <td>2-3 lần/ tuần</td>\n",
       "      <td>Trải nghiệm sản phẩm và dịch vụ (check-in, uốn...</td>\n",
       "      <td>30k - 45k</td>\n",
       "      <td>Các loại trà sữa</td>\n",
       "      <td>1 -  2 giờ</td>\n",
       "    </tr>\n",
       "    <tr>\n",
       "      <th>2</th>\n",
       "      <td>18</td>\n",
       "      <td>&gt; 3 lần / tuần</td>\n",
       "      <td>Học bài, Giải trí, Gặp gỡ bạn bè</td>\n",
       "      <td>50k - 60k</td>\n",
       "      <td>Các loại café</td>\n",
       "      <td>&gt; 3 giờ</td>\n",
       "    </tr>\n",
       "    <tr>\n",
       "      <th>3</th>\n",
       "      <td>18</td>\n",
       "      <td>2-3 lần/ tuần</td>\n",
       "      <td>Trải nghiệm sản phẩm và dịch vụ (check-in, uốn...</td>\n",
       "      <td>30k - 45k</td>\n",
       "      <td>Các loại café</td>\n",
       "      <td>1 -  2 giờ</td>\n",
       "    </tr>\n",
       "    <tr>\n",
       "      <th>4</th>\n",
       "      <td>22</td>\n",
       "      <td>2-3 lần/ tuần</td>\n",
       "      <td>Trải nghiệm sản phẩm và dịch vụ (check-in, uốn...</td>\n",
       "      <td>45k - 50k</td>\n",
       "      <td>Các loại café, Các loại trà sữa, Các loại nước...</td>\n",
       "      <td>1 -  2 giờ</td>\n",
       "    </tr>\n",
       "  </tbody>\n",
       "</table>\n",
       "</div>"
      ],
      "text/plain": [
       "   age            freq                                            purpose  \\\n",
       "0   19   2-3 lần/ tuần  Trải nghiệm sản phẩm và dịch vụ (check-in, uốn...   \n",
       "1   20   2-3 lần/ tuần  Trải nghiệm sản phẩm và dịch vụ (check-in, uốn...   \n",
       "2   18  > 3 lần / tuần                   Học bài, Giải trí, Gặp gỡ bạn bè   \n",
       "3   18   2-3 lần/ tuần  Trải nghiệm sản phẩm và dịch vụ (check-in, uốn...   \n",
       "4   22   2-3 lần/ tuần  Trải nghiệm sản phẩm và dịch vụ (check-in, uốn...   \n",
       "\n",
       "       price                                    choice of drink        time  \n",
       "0  30k - 45k                    Các loại café, Các loại trà sữa   2 - 3 giờ  \n",
       "1  30k - 45k                                   Các loại trà sữa  1 -  2 giờ  \n",
       "2  50k - 60k                                      Các loại café     > 3 giờ  \n",
       "3  30k - 45k                                      Các loại café  1 -  2 giờ  \n",
       "4  45k - 50k  Các loại café, Các loại trà sữa, Các loại nước...  1 -  2 giờ  "
      ]
     },
     "execution_count": 9,
     "metadata": {},
     "output_type": "execute_result"
    }
   ],
   "source": [
    "df = pd.read_excel(\"data.xlsx\")\n",
    "df.columns = [\"age\", \"freq\", \"purpose\", \"price\", \"choice of drink\", \"time\"]\n",
    "df.head()"
   ]
  },
  {
   "cell_type": "code",
   "execution_count": 37,
   "metadata": {},
   "outputs": [
    {
     "data": {
      "text/plain": [
       "30k - 45k                                                  181\n",
       "45k - 50k                                                  157\n",
       "50k - 60k                                                   55\n",
       "Dưới 30k                                                     1\n",
       "rẻ rẻ thoai, tiền ăn còn không có mà lấy đâu ra tiền cf      1\n",
       "No                                                           1\n",
       "Miễn là cà phê đủ ngon                                       1\n",
       "Name: price, dtype: int64"
      ]
     },
     "execution_count": 37,
     "metadata": {},
     "output_type": "execute_result"
    }
   ],
   "source": [
    "df.price.value_counts() "
   ]
  },
  {
   "cell_type": "code",
   "execution_count": 23,
   "metadata": {},
   "outputs": [
    {
     "name": "stdout",
     "output_type": "stream",
     "text": [
      "46513.7232194557\n"
     ]
    }
   ],
   "source": [
    "ave = (37.5*181 + 47.5*157 + 55*55) / (181 + 157 + 55)\n",
    "max_freq_ave = 37\n",
    "total1 = 5.6*10**6 / (ave*1000) # number of drink sold in one day \n",
    "total2 = 5.6*10**6 / (max_freq_ave*1000)\n",
    "print(total1 * 365 ) # print drink sold in one year "
   ]
  },
  {
   "cell_type": "code",
   "execution_count": 32,
   "metadata": {},
   "outputs": [
    {
     "data": {
      "text/plain": [
       "{'cafe': 206, 'milktea': 199, 'fruit': 166, 'ice': 117, 'gas': 54}"
      ]
     },
     "execution_count": 32,
     "metadata": {},
     "output_type": "execute_result"
    }
   ],
   "source": [
    "lst = {}\n",
    "lst['cafe'] = df['choice of drink'].str.contains(\"Các loại café\").value_counts()[True] # count values of cafe\n",
    "lst['milktea'] = df['choice of drink'].str.contains(\"Các loại trà sữa\").value_counts()[True] \n",
    "lst['fruit'] = df['choice of drink'].str.contains(\"Các loại nước trà trái cây\").value_counts()[True]\n",
    "lst['ice'] = df['choice of drink'].str.contains(\"Các loại đá xay\").value_counts()[True]\n",
    "lst['gas'] = df['choice of drink'].str.contains(\"Các loại nước ngọt có ga\").value_counts()[True]\n",
    "lst "
   ]
  },
  {
   "cell_type": "code",
   "execution_count": 35,
   "metadata": {},
   "outputs": [
    {
     "data": {
      "text/plain": [
       "{'cafe': 27.762803234501348,\n",
       " 'milktea': 26.819407008086255,\n",
       " 'fruit': 22.371967654986523,\n",
       " 'ice': 15.768194070080863,\n",
       " 'gas': 7.277628032345014}"
      ]
     },
     "execution_count": 35,
     "metadata": {},
     "output_type": "execute_result"
    }
   ],
   "source": [
    "from functools import reduce\n",
    "s = reduce(lambda x, key : x + lst[key], lst, 0) # sum total of count \n",
    "percent = dict(map(lambda item : (item[0], item[1]/s*100), lst.items())) # calculate percent of each item \n",
    "percent "
   ]
  }
 ],
 "metadata": {
  "kernelspec": {
   "display_name": "Python 3",
   "language": "python",
   "name": "python3"
  },
  "language_info": {
   "codemirror_mode": {
    "name": "ipython",
    "version": 3
   },
   "file_extension": ".py",
   "mimetype": "text/x-python",
   "name": "python",
   "nbconvert_exporter": "python",
   "pygments_lexer": "ipython3",
   "version": "3.10.9"
  },
  "orig_nbformat": 4
 },
 "nbformat": 4,
 "nbformat_minor": 2
}
